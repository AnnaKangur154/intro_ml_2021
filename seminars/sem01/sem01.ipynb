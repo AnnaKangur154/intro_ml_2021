{
 "cells": [
  {
   "cell_type": "markdown",
   "metadata": {},
   "source": [
    "# This is a demo-notebook how to work on assignments in *Cosmic.Research ML course*.\n",
    "\n",
    "## Notebook structure\n",
    "\n",
    "Jupyter notebook is made of cells, here are two main types of them:\n",
    "- Markdown\n",
    "- Code\n",
    "\n",
    "### A markdown\n",
    "This cell is a **markdown**, it allows to write text, use different *formatting* `styles`, include lists, [links](https://github.com/cosmic-research-ml-edu/cosmic.research.intro.ml/blob/master/homeworks/hw01/lab01.ipynb) and even pictures:\n",
    "\n",
    "![](https://i.pinimg.com/236x/4f/d6/5c/4fd65ca1250fa8fc379399e1b1c6e3e4--galaxy-cat-alien-party.jpg)\n",
    "\n",
    "Mor than that, you can write formulas with $\\LaTeX$: \n",
    "$$\n",
    "\\sum\\limits_{n=1}^{\\infty} = \\infty\n",
    "$$\n",
    "\n",
    "When you see a markdown, you see a pretty piece of text, but to see its original code just use double-click!\n",
    "\n",
    "## Use markdowns to comment your results!\n",
    "### Use markdowns - don't write your thoughs inside your code"
   ]
  },
  {
   "cell_type": "code",
   "execution_count": null,
   "metadata": {},
   "outputs": [],
   "source": [
    "# This cell is a code block\n",
    "# For example, I will define a function here\n",
    "\n",
    "def reverse_a_word(word):\n",
    "    # YOUR CODE HERE"
   ]
  },
  {
   "cell_type": "code",
   "execution_count": null,
   "metadata": {},
   "outputs": [],
   "source": [
    "# Create a variable here\n",
    "\n",
    "my_word = \"palindrome\"\n",
    "assert reverse_a_word(my_word) == \"emordnilap\", \"Seems slightly wrong\""
   ]
  },
  {
   "cell_type": "markdown",
   "metadata": {},
   "source": [
    "## Tasks demo\n",
    "\n",
    "-  **Important!** You don't have to create your own notebook, just *fill the gaps* in the original one.\n",
    "-  **More than important!** Don't delete any cells you didn't create\n",
    "\n",
    "In this notebooks I will write markdowns with comments with two types of formatting:\n",
    "- **bold** is for my technical comments\n",
    "- regular is used for something you might have written while doing these tasks"
   ]
  },
  {
   "cell_type": "markdown",
   "metadata": {},
   "source": [
    "**Task 01 [100500 points]** Implement a function that creates a square `N x N` numpy array of random integers from `[0, max_value)` "
   ]
  },
  {
   "cell_type": "code",
   "execution_count": null,
   "metadata": {},
   "outputs": [],
   "source": [
    "import numpy as np"
   ]
  },
  {
   "cell_type": "code",
   "execution_count": null,
   "metadata": {},
   "outputs": [],
   "source": [
    "def make_random_int_matrix(max_value, N):\n",
    "    '''YOUR CODE HERE\n",
    "    '''"
   ]
  },
  {
   "cell_type": "markdown",
   "metadata": {},
   "source": [
    "**All you have to do is to write your code inside a function (don't even copy the original cell).\n",
    "After you are done the cell may look like this**"
   ]
  },
  {
   "cell_type": "code",
   "execution_count": null,
   "metadata": {},
   "outputs": [],
   "source": []
  },
  {
   "cell_type": "markdown",
   "metadata": {},
   "source": [
    "**Don't clear the outputs after you finish your work. You don't have to comment anything - it's just your code and cell output**\n",
    "\n",
    "**(yes, you have to run the cell)**"
   ]
  },
  {
   "cell_type": "markdown",
   "metadata": {},
   "source": [
    "**Task 2 [42 points]** Import the Iris dataset and examine if classes a balanced."
   ]
  },
  {
   "cell_type": "code",
   "execution_count": null,
   "metadata": {},
   "outputs": [],
   "source": [
    "import pandas as pd\n",
    "from sklearn.datasets import load_iris"
   ]
  },
  {
   "cell_type": "markdown",
   "metadata": {},
   "source": [
    "**You start here: you import the data and create a dataset**"
   ]
  },
  {
   "cell_type": "code",
   "execution_count": null,
   "metadata": {},
   "outputs": [],
   "source": [
    "irises = load_iris()\n",
    "feature_names = irises[\"feature_names\"]\n",
    "X, y = irises[\"data\"], irises[\"target\"]"
   ]
  },
  {
   "cell_type": "code",
   "execution_count": null,
   "metadata": {},
   "outputs": [],
   "source": [
    "df = pd.DataFrame(data=X, columns=feature_names)\n",
    "df[\"class\"] = y"
   ]
  },
  {
   "cell_type": "code",
   "execution_count": null,
   "metadata": {},
   "outputs": [],
   "source": [
    "df.head(3)"
   ]
  },
  {
   "cell_type": "markdown",
   "metadata": {},
   "source": [
    "**Here you have finished data preparation and you run:**"
   ]
  },
  {
   "cell_type": "code",
   "execution_count": null,
   "metadata": {},
   "outputs": [],
   "source": [
    "df[\"class\"].value_counts()"
   ]
  },
  {
   "cell_type": "markdown",
   "metadata": {},
   "source": [
    "**Here you comment your result:**\n",
    "\n",
    "As we can see, each class has 50 objects, hence classes are balanced."
   ]
  },
  {
   "cell_type": "markdown",
   "metadata": {},
   "source": [
    "**But somehow you are not satisfied and you decide to create a barplot:**\n",
    "\n",
    "Let's plot distribution of objects between the classes"
   ]
  },
  {
   "cell_type": "code",
   "execution_count": null,
   "metadata": {},
   "outputs": [],
   "source": [
    "import matplotlib.pyplot as plt\n",
    "from collections import Counter"
   ]
  },
  {
   "cell_type": "code",
   "execution_count": null,
   "metadata": {},
   "outputs": [],
   "source": [
    "class_counter = Counter(y)\n",
    "class_counter"
   ]
  },
  {
   "cell_type": "code",
   "execution_count": null,
   "metadata": {},
   "outputs": [],
   "source": [
    "labels = sorted(class_counter.keys())\n",
    "values = [class_counter[label] for label in labels]"
   ]
  },
  {
   "cell_type": "code",
   "execution_count": null,
   "metadata": {},
   "outputs": [],
   "source": [
    "plt.figure(figsize=(8, 4)) # Create a figure\n",
    "\n",
    "plt.barh(labels, values, color=[\"red\", \"green\", \"blue\"]) # Draw a barplot\n",
    "\n",
    "plt.yticks(np.arange(len(labels)), [\"Class: \" + str(label) for label in labels]) # Put custom labels on y-axis\n",
    "\n",
    "# Add numbers on a plot (optionally)\n",
    "for l, v in zip(labels, values):\n",
    "    plt.text(v + 0.1, l + 0.1, str(v))\n",
    "\n",
    "plt.title(\"Objects per class\") # Title is a must-have\n",
    "plt.xlabel(\"n_objects\") # Axis-label is a must-have\n",
    "# plt.ylabel(\"\") we don't need it here beacuse y-ticks explain everything\n",
    "plt.xlim(0, 75)\n",
    "plt.grid()\n",
    "plt.show()"
   ]
  },
  {
   "cell_type": "markdown",
   "metadata": {},
   "source": [
    "**In this task plot is an optional feature, because 3 simple numbers for 3 classes are quite easy to comprehend, but there might be other cases with not so obvious class ratios where you should consider plotting**"
   ]
  }
 ],
 "metadata": {
  "kernelspec": {
   "display_name": "Python 3",
   "language": "python",
   "name": "python3"
  },
  "language_info": {
   "codemirror_mode": {
    "name": "ipython",
    "version": 3
   },
   "file_extension": ".py",
   "mimetype": "text/x-python",
   "name": "python",
   "nbconvert_exporter": "python",
   "pygments_lexer": "ipython3",
   "version": "3.9.6"
  }
 },
 "nbformat": 4,
 "nbformat_minor": 4
}
